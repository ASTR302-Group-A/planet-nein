{
 "cells": [
  {
   "cell_type": "code",
   "execution_count": 1,
   "id": "604a7894-82f9-4d4e-8253-57dec6b20161",
   "metadata": {},
   "outputs": [
    {
     "data": {
      "application/vnd.jupyter.widget-view+json": {
       "model_id": "dcde39a8ed774c6a9bae4e2deefec333",
       "version_major": 2,
       "version_minor": 0
      },
      "text/plain": [
       "HBox(children=(VBox(children=(IntSlider(value=10, description='Orbits', max=1000), FloatSlider(value=50.0, des…"
      ]
     },
     "metadata": {},
     "output_type": "display_data"
    },
    {
     "data": {
      "application/vnd.jupyter.widget-view+json": {
       "model_id": "f9312e0d58074efcbc382e5acd99c353",
       "version_major": 2,
       "version_minor": 0
      },
      "text/plain": [
       "Output()"
      ]
     },
     "metadata": {},
     "output_type": "display_data"
    }
   ],
   "source": [
    "import visualizer as vis\n",
    "vis.interactive_plot()"
   ]
  },
  {
   "cell_type": "code",
   "execution_count": null,
   "id": "07d921c9-d562-442e-9d3c-1c49cb23cf3a",
   "metadata": {},
   "outputs": [],
   "source": []
  }
 ],
 "metadata": {
  "kernelspec": {
   "display_name": "planet-nein",
   "language": "python",
   "name": "planet-nein"
  },
  "language_info": {
   "codemirror_mode": {
    "name": "ipython",
    "version": 3
   },
   "file_extension": ".py",
   "mimetype": "text/x-python",
   "name": "python",
   "nbconvert_exporter": "python",
   "pygments_lexer": "ipython3",
   "version": "3.12.2"
  }
 },
 "nbformat": 4,
 "nbformat_minor": 5
}
