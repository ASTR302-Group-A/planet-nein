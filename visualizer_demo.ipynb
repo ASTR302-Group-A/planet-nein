{
 "cells": [
  {
   "cell_type": "code",
   "execution_count": 1,
   "id": "043548a8-491e-458a-a769-a635dcd74cbb",
   "metadata": {},
   "outputs": [],
   "source": [
    "import pandas as pd\n",
    "# load in the planet 9 orbit data (called the reference population)\n",
    "reference_population = pd.read_csv(\"reference_population.csv\", comment = \"#\");"
   ]
  },
  {
   "cell_type": "code",
   "execution_count": 2,
   "id": "604a7894-82f9-4d4e-8253-57dec6b20161",
   "metadata": {},
   "outputs": [
    {
     "data": {
      "application/vnd.jupyter.widget-view+json": {
       "model_id": "2c6cd51457a64f90b9e18f80831be87d",
       "version_major": 2,
       "version_minor": 0
      },
      "text/plain": [
       "HBox(children=(VBox(children=(IntSlider(value=10, description='Orbits', max=1000), FloatSlider(value=50.0, des…"
      ]
     },
     "metadata": {},
     "output_type": "display_data"
    },
    {
     "data": {
      "application/vnd.jupyter.widget-view+json": {
       "model_id": "d28e4da5d52e4352ba028c06a1c0c23d",
       "version_major": 2,
       "version_minor": 0
      },
      "text/plain": [
       "Output()"
      ]
     },
     "metadata": {},
     "output_type": "display_data"
    }
   ],
   "source": [
    "import visualizer as vis\n",
    "vis.interactive_plot(reference_population)"
   ]
  },
  {
   "cell_type": "code",
   "execution_count": null,
   "id": "07d921c9-d562-442e-9d3c-1c49cb23cf3a",
   "metadata": {},
   "outputs": [],
   "source": []
  }
 ],
 "metadata": {
  "kernelspec": {
   "display_name": "Python 3 (ipykernel)",
   "language": "python",
   "name": "python3"
  },
  "language_info": {
   "codemirror_mode": {
    "name": "ipython",
    "version": 3
   },
   "file_extension": ".py",
   "mimetype": "text/x-python",
   "name": "python",
   "nbconvert_exporter": "python",
   "pygments_lexer": "ipython3",
   "version": "3.9.10"
  }
 },
 "nbformat": 4,
 "nbformat_minor": 5
}
