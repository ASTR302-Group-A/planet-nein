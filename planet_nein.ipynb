{
 "cells": [
  {
   "cell_type": "markdown",
   "id": "460594d3-c139-4d04-a479-1dc31fc88233",
   "metadata": {},
   "source": [
    "# PLANET NEIN\n",
    "*Simulating when Rubin will have enough observations to confirm or deny reference orbits for Planet 9/Planet X*  "
   ]
  },
  {
   "cell_type": "markdown",
   "id": "84e15463-160f-402f-adaf-afbfbb721863",
   "metadata": {
    "jp-MarkdownHeadingCollapsed": true,
    "tags": []
   },
   "source": [
    "---  \n",
    "## Purpose  "
   ]
  },
  {
   "cell_type": "markdown",
   "id": "e6495013-86fa-4aaa-92d2-dbdeb5bbd96a",
   "metadata": {
    "tags": []
   },
   "source": [
    "We will use Rubin's observation plan and the list of potential reference orbits for Planet 9/X from Caltech to determine all observations that Rubin would make of Planet 9/X if it is in any of these orbits. Using the same detection criteria that Rubin will use to detect moving objects from these observations, we then project the date that an observation would trigger a \"detection\" for each potential orbit, and thus the date that each potential orbit of Planet 9/X would be confirmed/denied.  "
   ]
  },
  {
   "cell_type": "markdown",
   "id": "e8137d7e-18ed-415e-93b3-0a4035d900da",
   "metadata": {
    "jp-MarkdownHeadingCollapsed": true,
    "tags": []
   },
   "source": [
    "---  \n",
    "## Loading in Planet 9/X Orbits  \n",
    "Called the \"reference population\", this is a list of potential orbits for Planet 9/X from Caltech"
   ]
  },
  {
   "cell_type": "code",
   "execution_count": null,
   "id": "f314802a-a716-4f30-b998-35b0c2ac42ea",
   "metadata": {},
   "outputs": [],
   "source": []
  },
  {
   "cell_type": "markdown",
   "id": "5c244873-6b9b-4934-b53d-4780baa9cf17",
   "metadata": {
    "jp-MarkdownHeadingCollapsed": true,
    "tags": []
   },
   "source": [
    "---  \n",
    "## Loading in Rubin's Pointing Database\n",
    "Planned observation locations and durations for Rubin's LSST"
   ]
  },
  {
   "cell_type": "code",
   "execution_count": null,
   "id": "08dcadf3-c340-4e98-8b91-80660cfa1c9d",
   "metadata": {},
   "outputs": [],
   "source": []
  },
  {
   "cell_type": "markdown",
   "id": "a680abc3-f88e-4816-bacd-feee28cccaf1",
   "metadata": {
    "tags": []
   },
   "source": [
    "---  \n",
    "## Running Sorcha  \n",
    "Determine when Rubin would make an observation of Planet 9/X in each potential orbit"
   ]
  },
  {
   "cell_type": "code",
   "execution_count": null,
   "id": "7aaabc73-809e-4db3-88d2-497645773fc6",
   "metadata": {},
   "outputs": [],
   "source": []
  },
  {
   "cell_type": "markdown",
   "id": "938ebccd-5dac-45cf-af74-8402211408c4",
   "metadata": {},
   "source": [
    "---  \n",
    "## Run mock Rubin detections\n",
    "Determine when the observations would trigger a detection, based on Rubin's detection algorithms."
   ]
  },
  {
   "cell_type": "code",
   "execution_count": null,
   "id": "e61eedcc-9282-4f8d-93e1-6d7e1963c5c1",
   "metadata": {},
   "outputs": [],
   "source": []
  },
  {
   "cell_type": "markdown",
   "id": "1a571114-a59b-4c4c-8cb1-1256b2c7e26d",
   "metadata": {},
   "source": [
    "---  \n",
    "## Visualize Detections  \n",
    "A visualization of the potential Planet 9/X orbits, and how Rubin will be able to rule them out (or discover Planet 9/X) over it's 10 years of observations."
   ]
  },
  {
   "cell_type": "code",
   "execution_count": null,
   "id": "4d814b59-3c5a-4abc-8dad-2b8431cd402b",
   "metadata": {},
   "outputs": [],
   "source": []
  }
 ],
 "metadata": {
  "kernelspec": {
   "display_name": "Python 3 (ipykernel)",
   "language": "python",
   "name": "python3"
  },
  "language_info": {
   "codemirror_mode": {
    "name": "ipython",
    "version": 3
   },
   "file_extension": ".py",
   "mimetype": "text/x-python",
   "name": "python",
   "nbconvert_exporter": "python",
   "pygments_lexer": "ipython3",
   "version": "3.9.10"
  }
 },
 "nbformat": 4,
 "nbformat_minor": 5
}
