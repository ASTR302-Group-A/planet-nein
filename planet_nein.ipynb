{
 "cells": [
  {
   "cell_type": "markdown",
   "id": "460594d3-c139-4d04-a479-1dc31fc88233",
   "metadata": {},
   "source": [
    "# PLANET NEIN\n",
    "*Simulating when Rubin will have enough observations to confirm or deny reference orbits for Planet 9/Planet X*  "
   ]
  },
  {
   "cell_type": "markdown",
   "id": "84e15463-160f-402f-adaf-afbfbb721863",
   "metadata": {
    "jp-MarkdownHeadingCollapsed": true,
    "tags": []
   },
   "source": [
    "---  \n",
    "## Purpose  "
   ]
  },
  {
   "cell_type": "markdown",
   "id": "e6495013-86fa-4aaa-92d2-dbdeb5bbd96a",
   "metadata": {
    "tags": []
   },
   "source": [
    "We will use Rubin's observation plan and the list of potential reference orbits for Planet 9/X from Caltech to determine all observations that Rubin would make of Planet 9/X if it is in any of these orbits. Using the same detection criteria that Rubin will use to detect moving objects from these observations, we then project the date that an observation would trigger a \"detection\" for each potential orbit, and thus the date that each potential orbit of Planet 9/X would be confirmed/denied.  "
   ]
  },
  {
   "cell_type": "markdown",
   "id": "d178b7a2-8c8c-45e5-9302-6cacad2a1541",
   "metadata": {},
   "source": [
    "---  \n",
    "## Imports  "
   ]
  },
  {
   "cell_type": "code",
   "execution_count": 1,
   "id": "ac268b74-8021-4aaf-b171-047a807bb1a7",
   "metadata": {},
   "outputs": [],
   "source": [
    "# general imports here, modules for the individual steps\n",
    "# will be imported in their coresponding sections\n",
    "import pandas as pd\n",
    "import numpy as np\n",
    "import sqlite3"
   ]
  },
  {
   "cell_type": "markdown",
   "id": "5c244873-6b9b-4934-b53d-4780baa9cf17",
   "metadata": {
    "tags": []
   },
   "source": [
    "---  \n",
    "## Loading in Rubin's Pointing Database\n",
    "Planned observation locations and durations for Rubin's LSST"
   ]
  },
  {
   "cell_type": "code",
   "execution_count": 2,
   "id": "08dcadf3-c340-4e98-8b91-80660cfa1c9d",
   "metadata": {},
   "outputs": [],
   "source": [
    "# for testing, we have a subset with a much shorter duration called test.db\n",
    "pointing_10y = 'baseline_v3.2_10yrs.db';\n",
    "pointing_1wk = 'test.db';\n",
    "\n",
    "# full 10yr pointing database is too large to store on github \n",
    "# and must be downloaded locally:\n",
    "import os.path # for checking if files exist \n",
    "if not(os.path.exists(pointing_10y)):\n",
    "    !wget https://s3df.slac.stanford.edu/data/rubin/sim-data/sims_featureScheduler_runs3.2/baseline/baseline_v3.2_10yrs.db\n",
    "\n",
    "# select which pointing database will be used for this run:\n",
    "pointing_db = pointing_10y;"
   ]
  },
  {
   "cell_type": "markdown",
   "id": "a680abc3-f88e-4816-bacd-feee28cccaf1",
   "metadata": {
    "tags": []
   },
   "source": [
    "---  \n",
    "## Running Sorcha  \n",
    "Determine when Rubin would make an observation of Planet 9/X in each potential orbit"
   ]
  },
  {
   "cell_type": "code",
   "execution_count": 3,
   "id": "7aaabc73-809e-4db3-88d2-497645773fc6",
   "metadata": {},
   "outputs": [],
   "source": [
    "''' \n",
    "TBD - RUN SORCHA HERE\n",
    "'''\n",
    "\n",
    "# make sure we know where the output file is stored\n",
    "sorcha_output_filename = \"test_suites/testrun_phys.csv\";"
   ]
  },
  {
   "cell_type": "markdown",
   "id": "938ebccd-5dac-45cf-af74-8402211408c4",
   "metadata": {},
   "source": [
    "---  \n",
    "## Run mock Rubin detections\n",
    "Determine when the observations would trigger a detection, based on Rubin's detection algorithms."
   ]
  },
  {
   "cell_type": "code",
   "execution_count": 4,
   "id": "e61eedcc-9282-4f8d-93e1-6d7e1963c5c1",
   "metadata": {},
   "outputs": [],
   "source": [
    "# import detection module\n",
    "import detections as dt\n",
    "\n",
    "# get list of the detection dates of each planet\n",
    "planet_detections = dt.planet_detections(sorcha_output_filename);"
   ]
  },
  {
   "cell_type": "markdown",
   "id": "1a571114-a59b-4c4c-8cb1-1256b2c7e26d",
   "metadata": {},
   "source": [
    "---  \n",
    "## Visualize Detections  \n",
    "A visualization of the potential Planet 9/X orbits, and how Rubin will be able to rule them out (or discover Planet 9/X) over it's 10 years of observations."
   ]
  },
  {
   "cell_type": "code",
   "execution_count": 5,
   "id": "f314802a-a716-4f30-b998-35b0c2ac42ea",
   "metadata": {},
   "outputs": [],
   "source": [
    "# load in the planet 9 orbit data (called the reference population)\n",
    "ref_pop = pd.read_csv(\"reference_population.csv\", comment = \"#\");"
   ]
  },
  {
   "cell_type": "markdown",
   "id": "52d77645-0d5f-412d-ad09-930cf0f0d6de",
   "metadata": {
    "tags": []
   },
   "source": [
    "#### Interactive Orbit Visualizer"
   ]
  },
  {
   "cell_type": "code",
   "execution_count": 9,
   "id": "4d814b59-3c5a-4abc-8dad-2b8431cd402b",
   "metadata": {},
   "outputs": [
    {
     "name": "stderr",
     "output_type": "stream",
     "text": [
      "/opt/conda/lib/python3.9/site-packages/erfa/core.py:154: ErfaWarning: ERFA function \"d2dtf\" yielded 2509 of \"dubious year (Note 5)\"\n",
      "  warnings.warn('ERFA function \"{}\" yielded {}'.format(func_name, wmsg),\n"
     ]
    }
   ],
   "source": [
    "import visualizer as vis\n",
    "import ipywidgets as widgets\n",
    "from astropy.time import Time\n",
    "\n",
    "def potential_orbits( cutoff_date ):\n",
    "    '''\n",
    "    Returns the ObjID of the orbits that are still potential candidates at\n",
    "    the given cutoff date\n",
    "    \n",
    "    PARAMETERS:\n",
    "    cutoff_date : string\n",
    "        the date of the cutoff, in format 'YYYY-MM-DD'\n",
    "    '''\n",
    "    mjd_date = Time(cutoff_date,format='mjd');\n",
    "    detectable_IDs, candidate_IDs  = dt.orbits_detectable_by(planet_detections, mjd_date);\n",
    "    vis.interactive_plot(candidate_IDs);\n",
    "    return;\n",
    "\n",
    "# date slider for interactive visualization\n",
    "cutoff_date_slider = widgets.SelectionSlider(\n",
    "    options = dt.get_obsdates(pointing_db), # list of all dates\n",
    "    description = 'Date: ', # prompt\n",
    ");"
   ]
  },
  {
   "cell_type": "code",
   "execution_count": 10,
   "id": "662606db-a803-4867-84d3-6f9a97c7c7e6",
   "metadata": {},
   "outputs": [
    {
     "data": {
      "application/vnd.jupyter.widget-view+json": {
       "model_id": "f0ff84884a8c47d7a532a79e84796b0f",
       "version_major": 2,
       "version_minor": 0
      },
      "text/plain": [
       "interactive(children=(SelectionSlider(description='Date: ', options=('2025-05-01', '2025-05-02', '2025-05-03',…"
      ]
     },
     "metadata": {},
     "output_type": "display_data"
    }
   ],
   "source": [
    "widgets.interact(potential_orbits, cutoff_date = cutoff_date_slider);"
   ]
  },
  {
   "cell_type": "markdown",
   "id": "35fab90c-2c33-4bd8-9ecb-a0404b107271",
   "metadata": {},
   "source": [
    "---  \n",
    "## TO BE DONE: \n",
    "- work with John to adapt plot to be interactive based on cutoff date\n",
    "- make histogram"
   ]
  },
  {
   "cell_type": "markdown",
   "id": "4447f164-d239-4f4b-8f29-8d379ac139a4",
   "metadata": {},
   "source": [
    "### Histogram of detections over time"
   ]
  },
  {
   "cell_type": "code",
   "execution_count": null,
   "id": "4ee7b713-6754-4699-a75b-351d424ab508",
   "metadata": {},
   "outputs": [],
   "source": []
  },
  {
   "cell_type": "code",
   "execution_count": null,
   "id": "e48ed560-640d-42f7-a420-93fb53f9a62a",
   "metadata": {},
   "outputs": [],
   "source": []
  }
 ],
 "metadata": {
  "kernelspec": {
   "display_name": "Python 3 (ipykernel)",
   "language": "python",
   "name": "python3"
  },
  "language_info": {
   "codemirror_mode": {
    "name": "ipython",
    "version": 3
   },
   "file_extension": ".py",
   "mimetype": "text/x-python",
   "name": "python",
   "nbconvert_exporter": "python",
   "pygments_lexer": "ipython3",
   "version": "3.9.10"
  }
 },
 "nbformat": 4,
 "nbformat_minor": 5
}
