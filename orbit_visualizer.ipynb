{
 "cells": [
  {
   "cell_type": "markdown",
   "id": "4c8ad9a7882826cb",
   "metadata": {},
   "source": [
    "# Orbit Visualizer\n",
    "This notebook will be used to visualize the orbits found ni the reference population dataset for Planet 9/X. It is currently a work in progress."
   ]
  },
  {
   "cell_type": "code",
   "execution_count": 38,
   "id": "initial_id",
   "metadata": {
    "ExecuteTime": {
     "end_time": "2024-02-21T17:38:42.011956900Z",
     "start_time": "2024-02-21T17:38:42.007962700Z"
    },
    "tags": []
   },
   "outputs": [],
   "source": [
    "import numpy as np\n",
    "from matplotlib import pyplot as plt\n",
    "import pandas as pd\n",
    "import ipywidgets as ipy"
   ]
  },
  {
   "cell_type": "markdown",
   "id": "ebb643c8-ceaa-46b9-bea3-0c1ed01c1ee1",
   "metadata": {},
   "source": [
    "### Creating table with solar system planets"
   ]
  },
  {
   "cell_type": "code",
   "execution_count": 39,
   "id": "ea8247f3-72f4-40b3-b139-9d1329d6cb95",
   "metadata": {},
   "outputs": [],
   "source": [
    "solar_system = [\n",
    "    { \"name\": \"Mercury\", \"a\": 0.3871, \"e\": 0.206, \"inc\": 7.00, \"varpi\": 29.124, \"color\": \"gray\" },\n",
    "    { \"name\": \"Venus\", \"a\": 0.7233, \"e\": 0.007, \"inc\": 3.39, \"varpi\": 54.884, \"color\": \"gold\" },\n",
    "    { \"name\": \"Earth\", \"a\": 1, \"e\": 0.017, \"inc\": 0.00, \"varpi\": 114.207, \"color\": \"green\" },\n",
    "    { \"name\": \"Mars\", \"a\": 1.5273, \"e\": 0.093, \"inc\": 1.85, \"varpi\": 286.5, \"color\": \"red\" },\n",
    "    { \"name\": \"Jupiter\", \"a\": 5.2028, \"e\": 0.048, \"inc\": 1.31, \"varpi\": 273.867, \"color\": \"orange\" },\n",
    "    { \"name\": \"Saturn\", \"a\": 9.5388, \"e\": 0.056, \"inc\": 2.49, \"varpi\": 339.392, \"color\": \"yellow\" },\n",
    "    { \"name\": \"Uranus\", \"a\": 19.1914, \"e\": 0.046, \"inc\": 0.77, \"varpi\": 96.998, \"color\": \"blue\" },\n",
    "    { \"name\": \"Neptune\", \"a\": 30.0611, \"e\": 0.010, \"inc\": 1.77, \"varpi\": 273.187, \"color\": \"purple\" },\n",
    "]"
   ]
  },
  {
   "cell_type": "markdown",
   "id": "ff033663b1d9ac1c",
   "metadata": {},
   "source": [
    "### Function for plotting the orbits"
   ]
  },
  {
   "cell_type": "code",
   "execution_count": 40,
   "id": "887e8646c37913c4",
   "metadata": {
    "ExecuteTime": {
     "end_time": "2024-02-21T20:13:04.319889800Z",
     "start_time": "2024-02-21T20:13:04.189890800Z"
    },
    "collapsed": false,
    "jupyter": {
     "outputs_hidden": false
    }
   },
   "outputs": [],
   "source": [
    "def visualize_orbits(orbits, count, elevation = 30, azimuth = 40, zoom = 1):\n",
    "\n",
    "    ax = plt.figure(figsize=(8, 8)).add_subplot(projection='3d')\n",
    "    max_extent = 0\n",
    "    \n",
    "    for i in range(0, count + 8):\n",
    "\n",
    "        # Determines the shape of the given orbit\n",
    "        a = orbit_data[i]['a']        # Semi-major axis\n",
    "        e = orbit_data[i]['e']        # Eccentricity\n",
    "        b = a * np.sqrt(1 - e ** 2)   # Semi-minor axis\n",
    "        offset = a * e                # Position of the orbit's focus\n",
    "\n",
    "        # Creates an ellipse representing the given orbit\n",
    "        t = np.linspace(0, 2 * np.pi, 100)\n",
    "        x = offset + a * np.cos(t)\n",
    "        y = b * np.sin(t)\n",
    "        \n",
    "        # Rotates the ellipse both in its inclination and it's argument of perihelion\n",
    "        theta = orbit_data[i]['varpi'] * np.pi / 180\n",
    "        phi = orbit_data[i]['inc']  * np.pi / 180\n",
    "        rot_x = x * np.cos(theta) - y * np.sin(theta)\n",
    "        y = x * np.sin(theta) + y * np.cos(theta)\n",
    "        x = rot_x * np.cos(phi)\n",
    "        z = rot_x * -np.sin(phi)\n",
    "        \n",
    "        max_extent = max(max_extent, np.abs(np.min(x)), np.abs(np.min(y)), np.abs(np.min(z)), np.max(x), np.max(y), np.max(z))\n",
    "        \n",
    "        if orbit_data[i]['color'] == \"random\":\n",
    "            plt.plot(x, y, z, label = orbit_data[i]['name'])\n",
    "        else:\n",
    "            plt.plot(x, y, z, label = orbit_data[i]['name'], color=orbit_data[i]['color'])\n",
    "        \n",
    "        plt.grid(color = 'lightgray', linestyle = '--')\n",
    "    \n",
    "    # Makes the 3d plot area square and allows for zooming in and out\n",
    "    log_zoom = np.log10(1 + zoom)\n",
    "    max_log_zoom = np.log10(2)\n",
    "    zoom = log_zoom / max_log_zoom\n",
    "    extent = ((1 - zoom) * max_extent) + (zoom * 0.01) \n",
    "    ax.set_xlim(-extent, extent)\n",
    "    ax.set_ylim(-extent, extent)\n",
    "    ax.set_zlim(-extent, extent)\n",
    "    \n",
    "    # Adds the sun in the center, to scale\n",
    "    u = np.linspace(0, 2 * np.pi, 200)\n",
    "    v = np.linspace(0, np.pi, 200)\n",
    "    x = 0.00485 * np.outer(np.cos(u), np.sin(v))\n",
    "    y = 0.00485 * np.outer(np.sin(u), np.sin(v))\n",
    "    z = 0.00485 * np.outer(np.ones(np.size(u)), np.cos(v))\n",
    "    ax.plot_surface(x, y, z, color=\"orange\")\n",
    "\n",
    "    ax.view_init(elevation, azimuth)\n",
    "\n",
    "    plt.tight_layout()\n",
    "    plt.legend(loc=\"upper right\");"
   ]
  },
  {
   "cell_type": "markdown",
   "id": "8d890886-216d-4e25-88a5-92fc352c1b1d",
   "metadata": {},
   "source": [
    "### Plots interactively"
   ]
  },
  {
   "cell_type": "code",
   "execution_count": 41,
   "id": "5edb8554-beeb-449a-9a32-ccd2154b475e",
   "metadata": {},
   "outputs": [
    {
     "data": {
      "application/vnd.jupyter.widget-view+json": {
       "model_id": "d51f668b895d46749a761f359627e04e",
       "version_major": 2,
       "version_minor": 0
      },
      "text/plain": [
       "interactive(children=(IntSlider(value=0, description='count', max=10), FloatSlider(value=30.0, description='el…"
      ]
     },
     "metadata": {},
     "output_type": "display_data"
    }
   ],
   "source": [
    "# Randomize the reference population data\n",
    "reference_population = pd.read_csv(\"reference_population.csv\", comment = \"#\")\n",
    "reference_population = reference_population.sample(frac = 1).reset_index(drop = True)\n",
    "\n",
    "orbit_data = solar_system.copy()\n",
    "for i in range(100):\n",
    "    orbit_data.append({\n",
    "        \"name\": \"Orbit \" + str(reference_population.at[i, 'index']),\n",
    "        \"a\": reference_population.at[i, ' a'],\n",
    "        \"e\": reference_population.at[i, ' e'],\n",
    "        \"inc\": reference_population.at[i, ' inc'],\n",
    "        \"varpi\": reference_population.at[i, ' varpi'],\n",
    "        \"color\": \"random\"\n",
    "    })\n",
    "    \n",
    "ipy.interact(\n",
    "    visualize_orbits, \n",
    "    orbits = ipy.fixed(orbit_data), \n",
    "    count = ipy.IntSlider(0, min=0, max=10), \n",
    "    elevation = ipy.FloatSlider(30, min=0, max=90, step=0.5),\n",
    "    azimuth = ipy.FloatSlider(60, min=0, max=90, step=0.5), \n",
    "    zoom = ipy.FloatSlider(0, min = 0, max=1, step=0.01)\n",
    ");"
   ]
  },
  {
   "cell_type": "markdown",
   "id": "75e0d46b-4307-414a-9f41-e1e88dc4fdda",
   "metadata": {},
   "source": [
    "### A failed attempt to plot using plotly"
   ]
  },
  {
   "cell_type": "code",
   "execution_count": 5,
   "id": "1ea4943f-bdac-4ecc-b1d7-f3f43f839df8",
   "metadata": {},
   "outputs": [
    {
     "ename": "ModuleNotFoundError",
     "evalue": "No module named 'plotly'",
     "output_type": "error",
     "traceback": [
      "\u001b[0;31m---------------------------------------------------------------------------\u001b[0m",
      "\u001b[0;31mModuleNotFoundError\u001b[0m                       Traceback (most recent call last)",
      "Input \u001b[0;32mIn [5]\u001b[0m, in \u001b[0;36m<cell line: 1>\u001b[0;34m()\u001b[0m\n\u001b[0;32m----> 1\u001b[0m \u001b[38;5;28;01mimport\u001b[39;00m \u001b[38;5;21;01mplotly\u001b[39;00m\u001b[38;5;21;01m.\u001b[39;00m\u001b[38;5;21;01mio\u001b[39;00m \u001b[38;5;28;01mas\u001b[39;00m \u001b[38;5;21;01mpio\u001b[39;00m\n\u001b[1;32m      2\u001b[0m \u001b[38;5;28;01mimport\u001b[39;00m \u001b[38;5;21;01mplotly\u001b[39;00m\u001b[38;5;21;01m.\u001b[39;00m\u001b[38;5;21;01mgraph_objs\u001b[39;00m \u001b[38;5;28;01mas\u001b[39;00m \u001b[38;5;21;01mgo\u001b[39;00m\n\u001b[1;32m      3\u001b[0m pio\u001b[38;5;241m.\u001b[39mrenderers\u001b[38;5;241m.\u001b[39mdefault \u001b[38;5;241m=\u001b[39m \u001b[38;5;124m'\u001b[39m\u001b[38;5;124mjupyterlab\u001b[39m\u001b[38;5;124m'\u001b[39m\n",
      "\u001b[0;31mModuleNotFoundError\u001b[0m: No module named 'plotly'"
     ]
    }
   ],
   "source": [
    "import plotly.io as pio\n",
    "import plotly.graph_objs as go\n",
    "pio.renderers.default = 'jupyterlab'\n",
    "\n",
    "def visualize_orbits(count = 0):\n",
    "    \n",
    "    global reference_population\n",
    "\n",
    "    # Add a random orbit to the solar system data\n",
    "    reference_population = reference_population.sample(frac = 1).reset_index(drop = True)\n",
    "    orbit_data = solar_system.copy()\n",
    "\n",
    "    for i in range(count):\n",
    "        orbit_data.append({\n",
    "            \"name\": \"Orbit \" + str(reference_population.at[i, 'index']),\n",
    "            \"a\": reference_population.at[i, ' a'],\n",
    "            \"e\": reference_population.at[i, ' e'],\n",
    "            \"inc\": reference_population.at[i, ' inc'],\n",
    "            \"varpi\": reference_population.at[i, ' varpi'],\n",
    "        })\n",
    "        \n",
    "    fig = go.Figure()\n",
    "        \n",
    "    for i in range(0, len(orbit_data)):\n",
    "\n",
    "        t = np.linspace(0, 2 * np.pi, 100)\n",
    "        a = orbit_data[i]['a'] # Semi-major axis\n",
    "        e = orbit_data[i]['e'] # Eccentricity\n",
    "        offset = a * e # Center of the orbit\n",
    "        b = a * np.sqrt(1 - e ** 2) # Semi-minor axis\n",
    "\n",
    "        theta = orbit_data[i]['varpi'] * np.pi / 180\n",
    "        phi = orbit_data[i]['inc']  * np.pi / 180\n",
    "\n",
    "        x = offset + a * np.cos(t)\n",
    "        y = b * np.sin(t)\n",
    "\n",
    "        theta = orbit_data[i]['varpi'] * np.pi / 180\n",
    "        phi = orbit_data[i]['inc']  * np.pi / 180\n",
    "\n",
    "        rot_x = x * np.cos(theta) - y * np.sin(theta)\n",
    "        rot_y = x * np.sin(theta) + y * np.cos(theta)\n",
    "\n",
    "        x = rot_x * np.cos(phi)\n",
    "        y = rot_y\n",
    "        z = rot_x * -np.sin(phi)\n",
    "        \n",
    "        fig.add_trace(go.Scatter3d(x=x,y=y,z=z, mode='lines'))\n",
    "\n",
    "    fig.show()\n",
    "    \n",
    "visualize_orbits()"
   ]
  },
  {
   "cell_type": "code",
   "execution_count": null,
   "id": "acac063b-91e3-45eb-9602-751df59c0b0b",
   "metadata": {},
   "outputs": [],
   "source": []
  }
 ],
 "metadata": {
  "kernelspec": {
   "display_name": "Python 3 (ipykernel)",
   "language": "python",
   "name": "python3"
  },
  "language_info": {
   "codemirror_mode": {
    "name": "ipython",
    "version": 3
   },
   "file_extension": ".py",
   "mimetype": "text/x-python",
   "name": "python",
   "nbconvert_exporter": "python",
   "pygments_lexer": "ipython3",
   "version": "3.9.10"
  }
 },
 "nbformat": 4,
 "nbformat_minor": 5
}
